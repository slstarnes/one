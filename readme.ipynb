{
 "cells": [
  {
   "cell_type": "code",
   "execution_count": 25,
   "metadata": {
    "collapsed": true
   },
   "outputs": [
    {
     "data": {
      "text/markdown": [
       "    %reload_ext literacy"
      ],
      "text/plain": [
       "<IPython.core.display.Markdown object>"
      ]
     },
     "metadata": {},
     "output_type": "display_data"
    }
   ],
   "source": [
    "    %reload_ext literacy"
   ]
  },
  {
   "cell_type": "code",
   "execution_count": 26,
   "metadata": {},
   "outputs": [
    {
     "data": {
      "text/markdown": [
       "\n",
       "![](https://user-images.githubusercontent.com/4236275/32387941-61eb6494-c09c-11e7-8e39-510689aab037.png)\n",
       "\n",
       "# [Atlanta Jupyter User Group Meeting](https://callisto-morns.github.io/) [One](https://callisto-morns.github.io/)\n",
       "\n",
       "## Saturday November 11, 2017 _@_ the Georgia Tech Research Institute\n",
       "\n",
       "__Atlanta Jupyter User Group Meeting__ is a satellite event orbitting the [Project Jupyter](https://jupyter.org).  At each __Atlanta Jupyter User Group Meeting__, Jupyter beginners and veterans will join to share their works.  These events will attract designers, developers, and scientists across the southeast region crafted with Project Jupyter tools.\n",
       "\n",
       "# Ticket Drop!\n",
       "\n",
       "## [Purchase Tickets at Eventbrite for $5](https://www.eventbrite.com/e/callisto-morn-one-an-event-for-jupyter-users-tickets-39268778975)\n",
       "\n",
       "> *Tickets on the day of the event are $10*\n",
       "\n",
       "## [Submit a Talk or Demo](https://docs.google.com/forms/d/e/1FAIpQLSfY1c4y2vLE-q3VMBjOpvTi4pK5D6Q9KudNk25AsxQUjsT3eA/viewform)\n",
       "\n",
       "\n",
       "## [Github](https://github.com/callisto-morns/one) \n",
       "\n",
       "\n",
       "## [Questions?](https://github.com/callisto-morns/one/issues) \n",
       "\n",
       "[![Gitter chat](https://badges.gitter.im/callisto-one/Lobby.png)](https://gitter.im/callisto-one/Lobby)\n",
       "\n",
       "---\n",
       "\n",
       "## Announcements\n",
       "\n",
       "{% for post in site.posts %}\n",
       "\n",
       "### [{{ post.title }}](one/{{ post.url }}) <small>{{post.date}}</small>\n",
       "\n",
       "> {{post.description}}\n",
       "\n",
       "{% endfor %}\n"
      ],
      "text/plain": [
       "<IPython.core.display.Markdown object>"
      ]
     },
     "metadata": {},
     "output_type": "display_data"
    }
   ],
   "source": [
    "about.md"
   ]
  },
  {
   "cell_type": "markdown",
   "metadata": {},
   "source": [
    "---\n",
    "\n",
    "# Developer\n",
    "\n",
    "All build logic is contained with in the `readme.ipynb` file.  Use `nbconvert` to execute this notebook with the command below.\n",
    "\n",
    "    !jupyter nbconvert --to markdown --config config.py readme.ipynb\n",
    "    \n",
    "## [Conference Website](https://tonyfast.github.io/callistory/)\n",
    "\n",
    "\n",
    "This project maintains an index of notebooks on the `master` branch.  The Github Pages deployment separates out the HTML and Markdown content from the source documents.   \n",
    "\n",
    "### [Travis Pages Deployment](https://docs.travis-ci.com/user/deployment/pages/)"
   ]
  },
  {
   "cell_type": "code",
   "execution_count": 27,
   "metadata": {},
   "outputs": [
    {
     "data": {
      "text/markdown": [
       "    %%file config.py\n",
       "    c.TemplateExporter.exclude_input=True\n",
       "    c.TemplateExporter.exclude_input_prompt=True"
      ],
      "text/plain": [
       "<IPython.core.display.Markdown object>"
      ]
     },
     "metadata": {},
     "output_type": "display_data"
    },
    {
     "name": "stdout",
     "output_type": "stream",
     "text": [
      "Overwriting config.py\n"
     ]
    }
   ],
   "source": [
    "    %%file config.py\n",
    "    c.TemplateExporter.exclude_input=True\n",
    "    c.TemplateExporter.exclude_input_prompt=True"
   ]
  },
  {
   "cell_type": "code",
   "execution_count": 32,
   "metadata": {},
   "outputs": [
    {
     "data": {
      "text/markdown": [
       "    !jupyter nbconvert --to markdown *.ipynb \n",
       "    !jupyter nbconvert --to markdown --FilesWriter.build_directory=_posts posts/2017-*.ipynb \n",
       "    #     !rm index.md\n",
       "    !echo \"---\\n---\\n\" > index.html\n",
       "    !jupyter nbconvert --config config.py --stdout index.ipynb >> index.html\n",
       "    !jupyter nbconvert --config config.py --to markdown readme.ipynb"
      ],
      "text/plain": [
       "<IPython.core.display.Markdown object>"
      ]
     },
     "metadata": {},
     "output_type": "display_data"
    },
    {
     "name": "stdout",
     "output_type": "stream",
     "text": [
      "[NbConvertApp] Converting notebook about.ipynb to markdown\r\n",
      "[NbConvertApp] Writing 1366 bytes to about.md\r\n",
      "[NbConvertApp] Converting notebook announcement.ipynb to markdown\r\n",
      "[NbConvertApp] Writing 2276 bytes to announcement.md\r\n",
      "[NbConvertApp] Converting notebook contributing.ipynb to markdown\r\n",
      "[NbConvertApp] Writing 864 bytes to contributing.md\r\n",
      "[NbConvertApp] Converting notebook demonstrations.ipynb to markdown\r\n",
      "[NbConvertApp] Writing 3047 bytes to demonstrations.md\r\n",
      "[NbConvertApp] Converting notebook index.ipynb to markdown\r\n",
      "[NbConvertApp] Writing 7774 bytes to index.md\r\n",
      "[NbConvertApp] Converting notebook readme.ipynb to markdown\r\n",
      "[NbConvertApp] Writing 6818 bytes to readme.md\r\n",
      "[NbConvertApp] Converting notebook posts/2017-10-23-Adding-the-first-talks-Copy1.ipynb to markdown\r\n",
      "[NbConvertApp] Writing 784 bytes to _posts/2017-10-23-Adding-the-first-talks-Copy1.md\r\n",
      "[NbConvertApp] Converting notebook posts/2017-11-02-Atlanta-Jupyter-Users-Group.ipynb to markdown\r\n",
      "[NbConvertApp] Writing 451 bytes to _posts/2017-11-02-Atlanta-Jupyter-Users-Group.md\r\n",
      "[NbConvertApp] Converting notebook index.ipynb to html\r\n",
      "[NbConvertApp] Converting notebook readme.ipynb to markdown\r\n",
      "[NbConvertApp] Writing 5434 bytes to readme.md\r\n"
     ]
    }
   ],
   "source": [
    "    !jupyter nbconvert --to markdown *.ipynb \n",
    "    !jupyter nbconvert --to markdown --FilesWriter.build_directory=_posts posts/2017-*.ipynb \n",
    "    #     !rm index.md\n",
    "    !echo \"---\\n---\\n\" > index.html\n",
    "    !jupyter nbconvert --config config.py --stdout index.ipynb >> index.html\n",
    "    !jupyter nbconvert --config config.py --to markdown readme.ipynb"
   ]
  },
  {
   "cell_type": "code",
   "execution_count": 29,
   "metadata": {},
   "outputs": [
    {
     "data": {
      "text/markdown": [
       "    %%file schedule.csv\n",
       "    start,end,section,description\n",
       "    8:30,9:00,Registration,Code of Conduct\n",
       "    9:00,9:10,Open remarks,\n",
       "    9:10,9:45,Panel Discussion,4 people\n",
       "    9:45,10:15,30 Min Case Study, Jupyter Lab Walk Through\n",
       "    10:15,10:45,30 Min Case Study, Luke Starnes\n",
       "    10:45,11:15,Powers Often, Nick and Tony\n",
       "    11:15,11:30,Break,Left over coffee\n",
       "    11:30,12:05,25 min talk,Rajeswari Sivakumar & Christian McDaniel from Dr. Shannon Quinn's group @UGA\n",
       "    11:40,11:50,10 min talk,Greg Werner\n",
       "    12:05,12:20,15 min talk,Casey Hartnett\n",
       "    12:20,12:30,Question from previous talks,\n",
       "    12:30,12:45,Tiny Talks,Shorts 2 min talks about the day\n",
       "    12:45,1:00,Business Business Business,Announcements"
      ],
      "text/plain": [
       "<IPython.core.display.Markdown object>"
      ]
     },
     "metadata": {},
     "output_type": "display_data"
    },
    {
     "name": "stdout",
     "output_type": "stream",
     "text": [
      "Overwriting schedule.csv\n"
     ]
    }
   ],
   "source": [
    "    %%file schedule.csv\n",
    "    start,end,section,description\n",
    "    8:30,9:00,Registration,Code of Conduct\n",
    "    9:00,9:10,Open remarks,\n",
    "    9:10,9:45,Panel Discussion,4 people\n",
    "    9:45,10:15,30 Min Case Study, Jupyter Lab Walk Through\n",
    "    10:15,10:45,30 Min Case Study, Luke Starnes\n",
    "    10:45,11:15,Powers Often, Nick and Tony\n",
    "    11:15,11:30,Break,Left over coffee\n",
    "    11:30,12:05,25 min talk,Rajeswari Sivakumar & Christian McDaniel from Dr. Shannon Quinn's group @UGA\n",
    "    11:40,11:50,10 min talk,Greg Werner\n",
    "    12:05,12:20,15 min talk,Casey Hartnett\n",
    "    12:20,12:30,Question from previous talks,\n",
    "    12:30,12:45,Tiny Talks,Shorts 2 min talks about the day\n",
    "    12:45,1:00,Business Business Business,Announcements"
   ]
  },
  {
   "cell_type": "code",
   "execution_count": 30,
   "metadata": {},
   "outputs": [
    {
     "data": {
      "text/markdown": [
       "\n",
       "# [contributing](contributing.ipynb)\n",
       "\n",
       "[![Build Status](https://travis-ci.org/callisto-morns/one.svg?branch=master)](https://travis-ci.org/callisto-morns/one)\n",
       "\n",
       "## [Submit questions and suggestions through the github issues](https://github.com/tonyfast/callistory/issues)\n",
       "\n",
       "We hope that community participation can assist future organizers in producing diy technology events.\n",
       "\n",
       "## Development\n",
       "\n",
       "* __[readme.ipynb](readme.ipynb)__ provides instruction for external services.\n",
       "* __[index.ipynb](readme.ipynb)__ the main event site.\n",
       "* __[about.ipynb](about.ipynb)__ provides information about the event.  Who what where when how why.\n",
       "* __[contributing.ipynb](about.ipynb)__ provides information about the event.  Who what where when how why.\n",
       "* __[talks.ipynb](long.ipynb)__ provides provides long format presentations information.\n",
       "\n",
       "# [Code of Conduct](code_of_conduct.md)\n"
      ],
      "text/plain": [
       "<IPython.core.display.Markdown object>"
      ]
     },
     "metadata": {},
     "output_type": "display_data"
    }
   ],
   "source": [
    "contributing.md"
   ]
  },
  {
   "cell_type": "code",
   "execution_count": 31,
   "metadata": {},
   "outputs": [
    {
     "data": {
      "text/markdown": [
       "    %%file custom.css\n",
       "    .output code {display: none;}"
      ],
      "text/plain": [
       "<IPython.core.display.Markdown object>"
      ]
     },
     "metadata": {},
     "output_type": "display_data"
    },
    {
     "name": "stdout",
     "output_type": "stream",
     "text": [
      "Overwriting custom.css\n"
     ]
    }
   ],
   "source": [
    "    %%file custom.css\n",
    "    .output code {display: none;}"
   ]
  }
 ],
 "metadata": {
  "kernelspec": {
   "display_name": "Python 3",
   "language": "python",
   "name": "python3"
  },
  "language_info": {
   "codemirror_mode": {
    "name": "ipython",
    "version": 3
   },
   "file_extension": ".py",
   "mimetype": "text/x-python",
   "name": "python",
   "nbconvert_exporter": "python",
   "pygments_lexer": "ipython3",
   "version": "3.5.3"
  }
 },
 "nbformat": 4,
 "nbformat_minor": 2
}
