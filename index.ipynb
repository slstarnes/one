{
 "cells": [
  {
   "cell_type": "code",
   "execution_count": 2,
   "metadata": {
    "collapsed": true
   },
   "outputs": [],
   "source": [
    "    %load_ext literacy\n",
    "    from pandas import *"
   ]
  },
  {
   "cell_type": "code",
   "execution_count": 3,
   "metadata": {
    "collapsed": true
   },
   "outputs": [
    {
     "data": {
      "text/markdown": [
       "\n",
       "![](https://user-images.githubusercontent.com/4236275/32387941-61eb6494-c09c-11e7-8e39-510689aab037.png)\n",
       "\n",
       "# [Atlanta Jupyter User Group Meeting](https://callisto-morns.github.io/) [One](https://callisto-morns.github.io/)\n",
       "\n",
       "## Saturday November 11, 2017 _@_ the Georgia Tech Research Institute\n",
       "\n",
       "__Atlanta Jupyter User Group Meeting__ is a satellite event orbitting the [Project Jupyter](https://jupyter.org).  At each __Atlanta Jupyter User Group Meeting__, Jupyter beginners and veterans will join to share their works.  These events will attract designers, developers, and scientists across the southeast region crafted with Project Jupyter tools.\n",
       "\n",
       "# Ticket Drop!\n",
       "\n",
       "## [Purchase Tickets at Eventbrite for $5](https://www.eventbrite.com/e/callisto-morn-one-an-event-for-jupyter-users-tickets-39268778975)\n",
       "\n",
       "> *Tickets on the day of the event are $10*\n",
       "\n",
       "## [Submit a Talk or Demo](https://docs.google.com/forms/d/e/1FAIpQLSfY1c4y2vLE-q3VMBjOpvTi4pK5D6Q9KudNk25AsxQUjsT3eA/viewform)\n",
       "\n",
       "\n",
       "## [Github](https://github.com/callisto-morns/one) \n",
       "\n",
       "\n",
       "## [Questions?](https://github.com/callisto-morns/one/issues) \n",
       "\n",
       "[![Gitter chat](https://badges.gitter.im/callisto-one/Lobby.png)](https://gitter.im/callisto-one/Lobby)\n",
       "\n",
       "---\n",
       "\n",
       "## Announcements\n",
       "\n",
       "{% for post in site.posts %}\n",
       "\n",
       "### [{{ post.title }}](one/{{ post.url }}) <small>{{post.date}}</small>\n",
       "\n",
       "> {{post.description}}\n",
       "\n",
       "{% endfor %}\n"
      ],
      "text/plain": [
       "<IPython.core.display.Markdown object>"
      ]
     },
     "metadata": {},
     "output_type": "display_data"
    }
   ],
   "source": [
    "about.md"
   ]
  },
  {
   "cell_type": "code",
   "execution_count": 6,
   "metadata": {
    "collapsed": true
   },
   "outputs": [
    {
     "data": {
      "text/markdown": [
       "\n",
       "# Case Studies\n",
       "\n",
       "* __9:45-10:15__ \n",
       "\n",
       "# Up and Running with Jupyter Lab\n",
       "\n",
       "Y'all have heard about JupyterLab.  This walk through will demonstrate the flexible use cases that the newest version of JupyterLab supports.\n",
       "\n",
       "    conda install -c conda-forge jupyterlab\n",
       "\n",
       "* __10:15-10:45__\n",
       "\n",
       "# Flight Data with Bokeh and Datashader\n",
       "\n",
       "#### [Luke Starnes](http://lstarnes.com/)\n",
       "\n",
       "This talk will discuss the growth of publicly available aircraft flight data due to the Automatic Dependent Surveillance – Broadcast (ADS-B) mandate. After providing some background, we will review a recent project which analyzed a large worldwide dataset consisting of over 7M reports per day. We will discuss the process used for cleaning, refactoring, and storing the data for quick access. This will include some pointers for those undertaking similar projects. Then we will discuss some of the interesting information we can learn from this data and review visualizations created with Datashader and Bokeh. The slides and code will be made available after the talk. \n",
       "\n",
       "* __10:45-11:15__\n",
       "\n",
       "# [Powers of_ten_ and the relative size of things in science](# \"Nick and Tony\")\n",
       "\n",
       "#### [Nick Bollweg](https://github.com/bollwyvl) and [Tony Fast](https://github.com/tonyfast)\n",
       "Science, and its application to engineering, policy, and business, ultimately affects people and communities. In solving new problems, while we may make use of ever more data and computers, we must also have greater impact and reach for people.  Open science, along with open source software and open data, continues to expand the frontiers of innovation.\n",
       "\n",
       "\n",
       "# Short Demonstrations\n",
       "\n",
       "* __11:30-11:55__\n",
       "\n",
       "# Data exploration in Jupyter\n",
       "\n",
       "#### Christian McDaniel and Rajeswari Sivakumar\n",
       "\n",
       "Data exploration in a collaborative environment can be a cumbersome process. In our lab, headed by Dr. Shannon Quinn at the University of Georgia, the use of Jupyter Notebook has streamlined tasks such as data visualization, data preparation, calculations and the sharing of our results. As students, the user-friendly functionality and display of Jupyter Notebook has been instrumental in our ability to learn from each other’s findings. We will explore our use of Jupyter Notebook throughout our most recent research, conducted for the Parkinson’s Disease Digital Biomarker DREAM Challenge, a recent open challenge from Sage Bionetworks. The motivation for the challenge is derived from the effects of Parkinsonian motor symptoms on everyday motor activities. Task-related motion-sensor time series data was provided, and challenge participants were asked to use this data to extract meaningful features which indicate the presence and severity of Parkinsonian motor symptoms. \n",
       "\n",
       "* __11:55-12:05__\n",
       "\n",
       "# [SQL with Jupyter Notebooks](# )\n",
       "\n",
       "#### [Greg Werner](https://github.com/jgwerner)\n",
       "\n",
       "Many data analysts love SQL for data analysis, for good reason. SQL is a powerful language and is used by countless data analysts and data scientists alike. As some of these personas transition from analysts to data scientists (where the world is indeed gray), having a SQL editor within Jupyter Notebooks becomes a powerful proposition. Learn how to add open source SQL editors as extensions to Jupyter Notebooks with this talk. Source code will be available for all attendees.\n",
       "\n",
       "* __12:05-12:20__\n",
       "\n",
       "# [Dynamic Notebook Generation for Reports]()\n",
       "\n",
       "#### [Casey Hartnett](https://github.com/caseyhartnett)\n",
       "\n",
       "We will start by learning what makes a IPython Notebook. We will then take an example report for a hotel and create a new notebook to generate this report for any number of hotels. We can generate a single file with repeated analysis for different hotels or generate separate notebooks for each. Lastly, we will learn how to run this process from the command line to streamline reporting process further.\n",
       "\n",
       "* __12:20-12:30__\n",
       "\n",
       "Collective questions from the previous talks.\n",
       "\n",
       "* __12:30-12:45__\n",
       "\n",
       "Quick oral talks from the attendees about the day.\n",
       "\n",
       "* __12:45-1:00__\n",
       "\n",
       "![](https://m.popkey.co/6e943e/r6RQM_f-thumbnail-100-0_s-600x0.jpg)\n"
      ],
      "text/plain": [
       "<IPython.core.display.Markdown object>"
      ]
     },
     "metadata": {},
     "output_type": "display_data"
    }
   ],
   "source": [
    "demonstrations.md"
   ]
  },
  {
   "cell_type": "code",
   "execution_count": 5,
   "metadata": {
    "collapsed": true
   },
   "outputs": [
    {
     "data": {
      "text/markdown": [
       "# [Full Schedule](schedule.csv)\n",
       "\n",
       "    "
      ],
      "text/plain": [
       "<IPython.core.display.Markdown object>"
      ]
     },
     "metadata": {},
     "output_type": "display_data"
    }
   ],
   "source": [
    "# [Full Schedule](schedule.csv)\n",
    "\n",
    "    "
   ]
  },
  {
   "cell_type": "code",
   "execution_count": 5,
   "metadata": {
    "collapsed": true
   },
   "outputs": [
    {
     "data": {
      "text/html": [
       "<div>\n",
       "<style>\n",
       "    .dataframe thead tr:only-child th {\n",
       "        text-align: right;\n",
       "    }\n",
       "\n",
       "    .dataframe thead th {\n",
       "        text-align: left;\n",
       "    }\n",
       "\n",
       "    .dataframe tbody tr th {\n",
       "        vertical-align: top;\n",
       "    }\n",
       "</style>\n",
       "<table border=\"1\" class=\"dataframe\">\n",
       "  <thead>\n",
       "    <tr style=\"text-align: right;\">\n",
       "      <th></th>\n",
       "      <th>start</th>\n",
       "      <th>end</th>\n",
       "      <th>section</th>\n",
       "      <th>description</th>\n",
       "    </tr>\n",
       "  </thead>\n",
       "  <tbody>\n",
       "    <tr>\n",
       "      <th>0</th>\n",
       "      <td>8:30</td>\n",
       "      <td>9:00</td>\n",
       "      <td>Registration</td>\n",
       "      <td>Code of Conduct</td>\n",
       "    </tr>\n",
       "    <tr>\n",
       "      <th>1</th>\n",
       "      <td>9:00</td>\n",
       "      <td>9:10</td>\n",
       "      <td>Open remarks</td>\n",
       "      <td>NaN</td>\n",
       "    </tr>\n",
       "    <tr>\n",
       "      <th>2</th>\n",
       "      <td>9:10</td>\n",
       "      <td>9:45</td>\n",
       "      <td>Panel Discussion</td>\n",
       "      <td>4 people</td>\n",
       "    </tr>\n",
       "    <tr>\n",
       "      <th>3</th>\n",
       "      <td>9:45</td>\n",
       "      <td>10:15</td>\n",
       "      <td>30 Min Case Study</td>\n",
       "      <td>Jupyter Lab Walk Through</td>\n",
       "    </tr>\n",
       "    <tr>\n",
       "      <th>4</th>\n",
       "      <td>10:15</td>\n",
       "      <td>10:45</td>\n",
       "      <td>30 Min Case Study</td>\n",
       "      <td>Luke Starnes</td>\n",
       "    </tr>\n",
       "    <tr>\n",
       "      <th>5</th>\n",
       "      <td>10:45</td>\n",
       "      <td>11:15</td>\n",
       "      <td>Powers Often</td>\n",
       "      <td>Nick and Tony</td>\n",
       "    </tr>\n",
       "    <tr>\n",
       "      <th>6</th>\n",
       "      <td>11:15</td>\n",
       "      <td>11:30</td>\n",
       "      <td>Break</td>\n",
       "      <td>Left over coffee</td>\n",
       "    </tr>\n",
       "    <tr>\n",
       "      <th>7</th>\n",
       "      <td>11:30</td>\n",
       "      <td>12:05</td>\n",
       "      <td>25 min talk</td>\n",
       "      <td>Rajeswari Sivakumar &amp; Christian McDaniel from ...</td>\n",
       "    </tr>\n",
       "    <tr>\n",
       "      <th>8</th>\n",
       "      <td>11:40</td>\n",
       "      <td>11:50</td>\n",
       "      <td>10 min talk</td>\n",
       "      <td>Greg Werner</td>\n",
       "    </tr>\n",
       "    <tr>\n",
       "      <th>9</th>\n",
       "      <td>12:05</td>\n",
       "      <td>12:20</td>\n",
       "      <td>15 min talk</td>\n",
       "      <td>Casey Hartnett</td>\n",
       "    </tr>\n",
       "    <tr>\n",
       "      <th>10</th>\n",
       "      <td>12:20</td>\n",
       "      <td>12:30</td>\n",
       "      <td>Question from previous talks</td>\n",
       "      <td>NaN</td>\n",
       "    </tr>\n",
       "    <tr>\n",
       "      <th>11</th>\n",
       "      <td>12:30</td>\n",
       "      <td>12:45</td>\n",
       "      <td>Tiny Talks</td>\n",
       "      <td>Shorts 2 min talks about the day</td>\n",
       "    </tr>\n",
       "    <tr>\n",
       "      <th>12</th>\n",
       "      <td>12:45</td>\n",
       "      <td>1:00</td>\n",
       "      <td>Business Business Business</td>\n",
       "      <td>Announcements</td>\n",
       "    </tr>\n",
       "  </tbody>\n",
       "</table>\n",
       "</div>"
      ],
      "text/plain": [
       "    start    end                       section  \\\n",
       "0    8:30   9:00                  Registration   \n",
       "1    9:00   9:10                  Open remarks   \n",
       "2    9:10   9:45              Panel Discussion   \n",
       "3    9:45  10:15             30 Min Case Study   \n",
       "4   10:15  10:45             30 Min Case Study   \n",
       "5   10:45  11:15                  Powers Often   \n",
       "6   11:15  11:30                         Break   \n",
       "7   11:30  12:05                   25 min talk   \n",
       "8   11:40  11:50                   10 min talk   \n",
       "9   12:05  12:20                   15 min talk   \n",
       "10  12:20  12:30  Question from previous talks   \n",
       "11  12:30  12:45                    Tiny Talks   \n",
       "12  12:45   1:00    Business Business Business   \n",
       "\n",
       "                                          description  \n",
       "0                                     Code of Conduct  \n",
       "1                                                 NaN  \n",
       "2                                            4 people  \n",
       "3                            Jupyter Lab Walk Through  \n",
       "4                                        Luke Starnes  \n",
       "5                                       Nick and Tony  \n",
       "6                                    Left over coffee  \n",
       "7   Rajeswari Sivakumar & Christian McDaniel from ...  \n",
       "8                                         Greg Werner  \n",
       "9                                      Casey Hartnett  \n",
       "10                                                NaN  \n",
       "11                   Shorts 2 min talks about the day  \n",
       "12                                      Announcements  "
      ]
     },
     "execution_count": 5,
     "metadata": {},
     "output_type": "execute_result"
    }
   ],
   "source": [
    "    \n",
    "    read_csv('schedule.csv')"
   ]
  },
  {
   "cell_type": "code",
   "execution_count": 6,
   "metadata": {
    "collapsed": true
   },
   "outputs": [
    {
     "data": {
      "text/markdown": [
       "\n",
       "# [contributing](contributing.ipynb)\n",
       "\n",
       "[![Build Status](https://travis-ci.org/callisto-morns/one.svg?branch=master)](https://travis-ci.org/callisto-morns/one)\n",
       "\n",
       "## [Submit questions and suggestions through the github issues](https://github.com/tonyfast/callistory/issues)\n",
       "\n",
       "We hope that community participation can assist future organizers in producing diy technology events.\n",
       "\n",
       "## Development\n",
       "\n",
       "* __[readme.ipynb](readme.ipynb)__ provides instruction for external services.\n",
       "* __[index.ipynb](readme.ipynb)__ the main event site.\n",
       "* __[about.ipynb](about.ipynb)__ provides information about the event.  Who what where when how why.\n",
       "* __[contributing.ipynb](about.ipynb)__ provides information about the event.  Who what where when how why.\n",
       "* __[talks.ipynb](long.ipynb)__ provides provides long format presentations information.\n",
       "\n",
       "# [Code of Conduct](code_of_conduct.md)\n"
      ],
      "text/plain": [
       "<IPython.core.display.Markdown object>"
      ]
     },
     "metadata": {},
     "output_type": "display_data"
    }
   ],
   "source": [
    "contributing.md"
   ]
  },
  {
   "cell_type": "code",
   "execution_count": 11,
   "metadata": {},
   "outputs": [
    {
     "data": {
      "text/markdown": [
       "<style>.highlighter-rouge {display: none;}</style>"
      ],
      "text/plain": [
       "<IPython.core.display.Markdown object>"
      ]
     },
     "metadata": {},
     "output_type": "display_data"
    }
   ],
   "source": [
    "<style>.highlighter-rouge {display: none;}</style>"
   ]
  }
 ],
 "metadata": {
  "kernelspec": {
   "display_name": "Python 3",
   "language": "python",
   "name": "python3"
  },
  "language_info": {
   "codemirror_mode": {
    "name": "ipython",
    "version": 3
   },
   "file_extension": ".py",
   "mimetype": "text/x-python",
   "name": "python",
   "nbconvert_exporter": "python",
   "pygments_lexer": "ipython3",
   "version": "3.5.3"
  }
 },
 "nbformat": 4,
 "nbformat_minor": 2
}
