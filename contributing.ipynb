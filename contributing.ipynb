{
 "cells": [
  {
   "cell_type": "markdown",
   "metadata": {},
   "source": [
    "# [contributing](contributing.ipynb)\n",
    "\n",
    "[![Build Status](https://travis-ci.org/callisto-morns/one.svg?branch=master)](https://travis-ci.org/callisto-morns/one)\n",
    "\n",
    "## [Submit questions and suggestions through the github issues](https://github.com/tonyfast/callistory/issues)\n",
    "\n",
    "We hope that community participation can assist future organizers in producing diy technology events."
   ]
  },
  {
   "cell_type": "markdown",
   "metadata": {},
   "source": [
    "## Development\n",
    "\n",
    "* __[readme.ipynb](readme.ipynb)__ provides instruction for external services.\n",
    "* __[index.ipynb](readme.ipynb)__ the main event site.\n",
    "* __[about.ipynb](about.ipynb)__ provides information about the event.  Who what where when how why.\n",
    "* __[contributing.ipynb](about.ipynb)__ provides information about the event.  Who what where when how why.\n",
    "* __[talks.ipynb](long.ipynb)__ provides provides long format presentations information.\n",
    "\n",
    "# [Code of Conduct](code_of_conduct.md)"
   ]
  }
 ],
 "metadata": {
  "kernelspec": {
   "display_name": "Python 3",
   "language": "python",
   "name": "python3"
  },
  "language_info": {
   "codemirror_mode": {
    "name": "ipython",
    "version": 3
   },
   "file_extension": ".py",
   "mimetype": "text/x-python",
   "name": "python",
   "nbconvert_exporter": "python",
   "pygments_lexer": "ipython3",
   "version": "3.5.3"
  }
 },
 "nbformat": 4,
 "nbformat_minor": 2
}
