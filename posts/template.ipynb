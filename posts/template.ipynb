{
 "cells": [
  {
   "cell_type": "raw",
   "metadata": {},
   "source": [
    "---\n",
    "title: A Descriptive title\n",
    "tagline: \n",
    "tags: \n",
    "- talk\n",
    "- tiçkets\n",
    "- general\n",
    "- more\n",
    "contact: \n",
    "    github: tonyfast \n",
    "    email: tony.fast@gmail.com\n",
    "excerpt_separator: <!--excerpt-->\n",
    "---"
   ]
  },
  {
   "cell_type": "markdown",
   "metadata": {},
   "source": [
    "# {{page.title}} <small>{{page.date}}</small>\n",
    "\n",
    "A one or two sentence description of the topic.  Use the excerpt to generate a description for the blog roll.\n",
    "\n",
    "<!--excerpt-->\n",
    "\n",
    "<!--show tags eventually-->\n",
    "\n",
    "---\n",
    "\n",
    "A long form description of the announcements.  Heavy linking and pictures are always a plus.\n",
    "\n",
    "## Questions\n",
    "\n",
    "If you have any question please contact __[@{{page.contact.name}}](https://github.com/{{page.contact.name}})__ on [gitter](https://gitter.im/{{page.contact.github}}) or by [email]({{page.contact.email}}).  Please as general questions"
   ]
  }
 ],
 "metadata": {
  "kernelspec": {
   "display_name": "Python 3",
   "language": "python",
   "name": "python3"
  },
  "language_info": {
   "codemirror_mode": {
    "name": "ipython",
    "version": 3
   },
   "file_extension": ".py",
   "mimetype": "text/x-python",
   "name": "python",
   "nbconvert_exporter": "python",
   "pygments_lexer": "ipython3",
   "version": "3.5.3"
  }
 },
 "nbformat": 4,
 "nbformat_minor": 2
}
