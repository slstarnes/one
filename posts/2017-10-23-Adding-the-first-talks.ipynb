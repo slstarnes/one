{
 "cells": [
  {
   "cell_type": "raw",
   "metadata": {},
   "source": [
    "---\n",
    "title: Two new talks\n",
    "description: SQL in the notebooks & Notebook reports.\n",
    "tags: \n",
    "- talk\n",
    "contact: \n",
    "    github: tonyfast \n",
    "    email: tony.fast@gmail.com\n",
    "    \n",
    "---"
   ]
  },
  {
   "cell_type": "markdown",
   "metadata": {},
   "source": [
    "# {{page.title}} <small>{{page.date}}</small>\n",
    "\n",
    "We are excited to announce talks from [Greg Werner](https://github.com/jgwerner) & [Casey Hartnett](https://github.com/caseyhartnett)\n",
    "\n",
    "<!--show tags eventually-->\n",
    "\n",
    "---\n",
    "\n",
    "[](#SQL-with-Jupyter-Notebooks)\n",
    "[](#Dynamic-Notebook-Generation-for-Reports)\n",
    "\n",
    "A long form description of the announcements.  Heavy linking and pictures are always a plus.\n",
    "\n",
    "## Questions\n",
    "\n",
    "If you have any question please contact __[@tonyfast](https://github.com/tonyfast)__ on [gitter](https://gitter.im/tonyfast) or by [email](tony.fast@gmail.com).  Please ask general questions in the [Github Issues]()."
   ]
  }
 ],
 "metadata": {
  "kernelspec": {
   "display_name": "Python 3",
   "language": "python",
   "name": "python3"
  },
  "language_info": {
   "codemirror_mode": {
    "name": "ipython",
    "version": 3
   },
   "file_extension": ".py",
   "mimetype": "text/x-python",
   "name": "python",
   "nbconvert_exporter": "python",
   "pygments_lexer": "ipython3",
   "version": "3.5.3"
  }
 },
 "nbformat": 4,
 "nbformat_minor": 2
}
